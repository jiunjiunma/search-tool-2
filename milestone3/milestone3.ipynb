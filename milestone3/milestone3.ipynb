{
 "cells": [
  {
   "cell_type": "code",
   "execution_count": 7,
   "id": "4d568ea3",
   "metadata": {},
   "outputs": [],
   "source": [
    "import json\n",
    "import numpy as np\n",
    "import faiss\n",
    "from sentence_transformers import SentenceTransformer\n",
    "from transformers import AutoTokenizer, AutoModelForQuestionAnswering\n",
    "from transformers import QuestionAnsweringPipeline"
   ]
  },
  {
   "cell_type": "code",
   "execution_count": 2,
   "id": "00bc0051",
   "metadata": {},
   "outputs": [],
   "source": [
    "# load the index generated from milestone2\n",
    "index = faiss.read_index(\"faiss.index\")"
   ]
  },
  {
   "cell_type": "code",
   "execution_count": 4,
   "id": "59af509e",
   "metadata": {},
   "outputs": [],
   "source": [
    "# load the searched documents\n",
    "with open('data.json', 'r') as file:\n",
    "    documents = json.load(file)\n",
    "     "
   ]
  },
  {
   "cell_type": "code",
   "execution_count": 15,
   "id": "a06b9f7d",
   "metadata": {},
   "outputs": [],
   "source": [
    "# load pre-trained tokenizer and model\n",
    "tokenizer = AutoTokenizer.from_pretrained(\"ktrapeznikov/albert-xlarge-v2-squad-v2\")\n",
    "model = AutoModelForQuestionAnswering.from_pretrained(\"ktrapeznikov/albert-xlarge-v2-squad-v2\")\n",
    "pipeline = QuestionAnsweringPipeline(model, tokenizer)"
   ]
  },
  {
   "cell_type": "code",
   "execution_count": 16,
   "id": "e1cafea6",
   "metadata": {},
   "outputs": [],
   "source": [
    "stransformer = SentenceTransformer('distilbert-base-nli-stsb-mean-tokens')\n",
    "def encode(sentence):\n",
    "    return stransformer.encode(sentence)"
   ]
  },
  {
   "cell_type": "code",
   "execution_count": 26,
   "id": "78391761",
   "metadata": {},
   "outputs": [
    {
     "data": {
      "text/plain": [
       "[(0.24972431361675262, ' co-infection with another pathogen.'),\n",
       " (0.21742355823516846, ' coronavirus disease 2019'),\n",
       " (0.01083303987979889, ' COVID-19 pandemic'),\n",
       " (0.00461493618786335,\n",
       "  ' overcrowded medical camps and hospitals, and poor hygiene,'),\n",
       " (0.0019326804904267192, ' the epidemic has spread from high-risk groups')]"
      ]
     },
     "execution_count": 26,
     "metadata": {},
     "output_type": "execute_result"
    }
   ],
   "source": [
    "# define search method\n",
    "def search(question, k=5):\n",
    "    # search index\n",
    "    encoded_question = encode(question).reshape((1, -1))\n",
    "    top_k = index.search(encoded_question, k)\n",
    "    # run results through q&a pipeline\n",
    "    contents = [documents[_id]['text'] for _id in top_k[1][0]]\n",
    "    results = [ pipeline(question=question, context=content) for content in contents ]\n",
    "    results = sorted(results, key=lambda r: r['score'], reverse=True)\n",
    "    return [ (r['score'], r['answer']) for r in results ]\n",
    "\n",
    "\n",
    "search(\"What is Covid\")\n",
    "    \n",
    "    \n",
    "    "
   ]
  },
  {
   "cell_type": "code",
   "execution_count": 29,
   "id": "68695d5c",
   "metadata": {},
   "outputs": [
    {
     "name": "stdout",
     "output_type": "stream",
     "text": [
      "(0.5541480779647827, ' 75–200 million')\n",
      "(0.022713210433721542, ' infectious diseases')\n",
      "(0.0022400296293199062, 'PREDICT')\n",
      "(0.0036322257947176695, ' acquired immunodeficiency syndrome (AIDS).')\n",
      "(0.001844277954660356, ' (iii) an outside envelope of lipids.')\n",
      "(0.09398887306451797, ' one-hundredth the size of most bacteria.')\n",
      "(0.02054896391928196, ' measures to reduce causes of new infectious diseases')\n",
      "(0.12997746467590332, ' Seven')\n",
      "(1.5416599126183428e-05, ' Africa and Southeast Asia.')\n",
      "(0.21114356815814972, ' condom use')\n"
     ]
    }
   ],
   "source": [
    "with open('questions.json') as f:\n",
    "    questions = json.load(f)\n",
    "    \n",
    "for question in questions:\n",
    "    answers = search(question)\n",
    "    print(answers[0])"
   ]
  },
  {
   "cell_type": "code",
   "execution_count": null,
   "id": "e2ac402c",
   "metadata": {},
   "outputs": [],
   "source": []
  }
 ],
 "metadata": {
  "kernelspec": {
   "display_name": "Python 3",
   "language": "python",
   "name": "python3"
  },
  "language_info": {
   "codemirror_mode": {
    "name": "ipython",
    "version": 3
   },
   "file_extension": ".py",
   "mimetype": "text/x-python",
   "name": "python",
   "nbconvert_exporter": "python",
   "pygments_lexer": "ipython3",
   "version": "3.8.8"
  }
 },
 "nbformat": 4,
 "nbformat_minor": 5
}
