{
 "cells": [
  {
   "cell_type": "code",
   "execution_count": 1,
   "id": "6effa820",
   "metadata": {},
   "outputs": [],
   "source": [
    "import json\n",
    "import numpy as np\n",
    "import faiss\n",
    "from sentence_transformers import SentenceTransformer"
   ]
  },
  {
   "cell_type": "code",
   "execution_count": 2,
   "id": "e881d760",
   "metadata": {},
   "outputs": [
    {
     "data": {
      "text/plain": [
       "['A pandemic (from Greek πᾶν, pan, \"all\" and δῆμος, demos, \"people\") is an epidemic of an infectious disease that has spread across a large region, for instance multiple continents or worldwide, affecting a substantial number of people. A widespread endemic disease with a stable number of infected people is not a pandemic. Widespread endemic diseases with a stable number of infected people such as recurrences of seasonal influenza are generally excluded as they occur simultaneously in large regions of the globe rather than being spread worldwide.\\nThroughout human history, there have been a number of pandemics of diseases such as smallpox and tuberculosis. The most fatal pandemic in recorded history was the Black Death (also known as The Plague), which killed an estimated 75–200 million people in the 14th century. The term was not used yet but was for later pandemics including the 1918 influenza pandemic (Spanish flu). Current pandemics include COVID-19 (SARS-CoV-2) and HIV/AIDS.',\n",
       " 'HIV/AIDS, or Human Immunodeficiency Virus, is considered by some authors a global pandemic. However, the WHO currently uses the term \\'global epidemic\\' to describe HIV. As of 2018, approximately 37.9 million people are infected with HIV globally.There were about 770,000 deaths from AIDS in 2018.The 2015 Global Burden of Disease Study, in a report published in The Lancet, estimated that the global incidence of HIV infection peaked in 1997 at 3.3 million per year. Global incidence fell rapidly from 1997 to 2005, to about 2.6 million per year, but remained stable from 2005 to 2015.Sub-Saharan Africa is the region most affected. In 2018, an estimated 61% of new HIV infections occurred in this region. Prevalence ratios are \"In western and central Europe and North America, low and declining incidence of HIV and mortality among people infected with HIV over the last 17 years has seen the incidence:prevalence ratio fall from 0.06 in 2000 to 0.03 in 2017. Strong and steady reductions in new HIV infections and mortality among people infected with HIV in eastern and southern Africa has pushed the ratio down from 0.11 in 2000 to 0.04 in 2017. Progress has been more gradual in Asia and the Pacific (0.05 in 2017), Latin America (0.06 in 2017), the Caribbean (0.05 in 2017) and western and central Africa (0.06 in 2017). The incidence:prevalence ratios of the Middle East and North Africa (0.08 in 2017) and eastern Europe and central Asia (0.09 in 2017)\". South Africa has the largest population of people with HIV of any country in the world, at 7.06 million  as of 2017. In Tanzania, HIV/AIDS was reported to have a prevalence of 4.5% among Tanzanian adults aged 15–49 in 2017.South & South-East Asia (a region with about 2 billion people as of 2010, over 30% of the global population) has an estimated 4 million cases (12% of all people infected with HIV), with about 250,000 deaths in 2010. Approximately 2.5 million of these cases are in India, where however the prevalence is only about 0.3% (somewhat higher than that found in Western and Central Europe or Canada). Prevalence is lowest in East Asia at 0.1%.In 2017, approximately 1 million people in the United States had HIV; 14% did not realize that they were infected.In 2017, 93,385 people (64,472 men and 28,877 women) living with diagnosed HIV infection received HIV care in the UK and 428 deaths. 42,739 (nearly 50%) of those are gay or bisexual, a small segment of the overall population. \\nIn Australia, as of 2017, there were about 27,545 cases. \\nIn Canada as of 2016, there were about 63,110 cases.A reconstruction of its genetic history shows that the HIV pandemic almost certainly originated in Kinshasa, the capital of the Democratic Republic of the Congo, around 1920. AIDS was first recognized in 1981, in 1983 the HIV virus was discovered and identified as the cause of AIDS, and by 2009 AIDS caused nearly 30 million deaths.',\n",
       " 'The Antonine Plague of 165 to 180 AD, also known as the Plague of Galen (after Galen, the physician who described it), was an ancient pandemic brought to the Roman Empire by troops who were returning from campaigns in the Near East. Scholars have suspected it to have been either smallpox or measles. The plague may have claimed the life of a Roman emperor, Lucius Verus, who died in 169 and was the co-regent of Marcus Aurelius Antoninus, whose family name, Antoninus, has become associated with the pandemic. \\nAncient sources agree that the plague appeared first during the Roman siege of the Mesopotamian city Seleucia in the winter of 165–166. Ammianus Marcellinus reported that the plague spread to Gaul and to the legions along the Rhine. Eutropius stated that a large population died throughout the empire. According to the contemporary Roman historian Cassius Dio, the disease broke out again nine years later in 189 AD and caused up to 2,000 deaths a day in Rome, one quarter of those who were affected. The total death count has been estimated at 5 million, and the disease killed as much as one third of the population in some areas and devastated the Roman army.Australian sinologist and historian Rafe de Crespigny speculates that the plague may have also broken out in Eastern Han China before 166 because of notices of plagues in Chinese records. The plague affected Roman culture and literature and may have severely affected Indo-Roman trade relations in the Indian Ocean.',\n",
       " 'In epidemiology, the basic reproduction number, or basic reproductive number (sometimes called basic reproduction ratio or basic reproductive rate), denoted \\n  \\n    \\n      \\n        \\n          R\\n          \\n            0\\n          \\n        \\n      \\n    \\n    {\\\\displaystyle R_{0}}\\n   (pronounced R nought or R zero), of an infection can be thought of as the expected number of cases directly generated by one case in a population where all individuals are susceptible to infection. The definition describes the state where no other individuals are infected or immunized (naturally or through vaccination). Some definitions, such as that of the Australian Department of Health, add absence of \"any deliberate intervention in disease transmission\". The basic reproduction number is not to be confused with the effective reproduction number \\n  \\n    \\n      \\n        R\\n      \\n    \\n    {\\\\displaystyle R}\\n   (usually written \\n  \\n    \\n      \\n        \\n          R\\n          \\n            t\\n          \\n        \\n      \\n    \\n    {\\\\displaystyle R_{t}}\\n   [t for time], sometimes \\n  \\n    \\n      \\n        \\n          R\\n          \\n            e\\n          \\n        \\n      \\n    \\n    {\\\\displaystyle R_{e}}\\n  ), which is the number of cases generated in the current state of a population, which does not have to be the uninfected state. Also, it is important to note that \\n  \\n    \\n      \\n        \\n          R\\n          \\n            0\\n          \\n        \\n      \\n    \\n    {\\\\displaystyle R_{0}}\\n   is a dimensionless number and not a rate, which would have units of time−1, or units of time like doubling time.\\n  \\n    \\n      \\n        \\n          R\\n          \\n            0\\n          \\n        \\n      \\n    \\n    {\\\\displaystyle R_{0}}\\n   is not a biological constant for a pathogen as it is also affected by other factors such as environmental conditions and the behaviour of the infected population. Furthermore \\n  \\n    \\n      \\n        \\n          R\\n          \\n            0\\n          \\n        \\n      \\n    \\n    {\\\\displaystyle R_{0}}\\n   values are usually estimated from mathematical models, and the estimated values are dependent on the model used and values of other parameters. Thus values given in the literature only make sense in the given context and it is recommended not to use obsolete values or compare values based on different models. \\n  \\n    \\n      \\n        \\n          R\\n          \\n            0\\n          \\n        \\n      \\n    \\n    {\\\\displaystyle R_{0}}\\n   does not by itself give an estimate of how fast an infection spreads in the population.\\nThe most important uses of \\n  \\n    \\n      \\n        \\n          R\\n          \\n            0\\n          \\n        \\n      \\n    \\n    {\\\\displaystyle R_{0}}\\n   are determining if an emerging infectious disease can spread in a population and determining what proportion of the population should be immunized through vaccination to eradicate a disease. In commonly used infection models, when \\n  \\n    \\n      \\n        \\n          R\\n          \\n            0\\n          \\n        \\n        >\\n        1\\n      \\n    \\n    {\\\\displaystyle R_{0}>1}\\n   the infection will be able to start spreading in a population, but not if \\n  \\n    \\n      \\n        \\n          R\\n          \\n            0\\n          \\n        \\n        <\\n        1\\n      \\n    \\n    {\\\\displaystyle R_{0}<1}\\n  . Generally, the larger the value of \\n  \\n    \\n      \\n        \\n          R\\n          \\n            0\\n          \\n        \\n      \\n    \\n    {\\\\displaystyle R_{0}}\\n  , the harder it is to control the epidemic. For simple models, the proportion of the population that needs to be effectively immunized (meaning not susceptible to infection) to prevent sustained spread of the infection has to be larger than \\n  \\n    \\n      \\n        1\\n        −\\n        1\\n        \\n          /\\n        \\n        \\n          R\\n          \\n            0\\n          \\n        \\n      \\n    \\n    {\\\\displaystyle 1-1/R_{0}}\\n  . Conversely, the proportion of the population that remains susceptible to infection in the endemic equilibrium is \\n  \\n    \\n      \\n        1\\n        \\n          /\\n        \\n        \\n          R\\n          \\n            0\\n          \\n        \\n      \\n    \\n    {\\\\displaystyle 1/R_{0}}\\n  .\\nThe basic reproduction number is affected by several factors, including the duration of infectivity of affected people, the infectiousness of the microorganism, and the number of susceptible people in the population that the infected people contact.',\n",
       " 'Bills of mortality were the weekly mortality statistics in London, designed to monitor burials from 1592 to 1595 and then continuously from 1603. The responsibility to produce the statistics was chartered in 1611 to the Worshipful Company of Parish Clerks. The bills covered an area that started to expand as London grew from the City of London, before reaching its maximum extent in 1636. New parishes were then only added where ancient parishes within the area were divided. Factors such as the use of suburban cemeteries outside the area, the exemption of extra-parochial places within the area, the wider growth of the metropolis, and that they recorded burials rather than deaths, rendered their data incomplete. Production of the bills went into decline from 1819 as parishes ceased to provide returns, with the last surviving weekly bill dating from 1858. They were superseded by the weekly returns of the Registrar General from 1840, taking in further parishes until 1847. This area became the district of the Metropolitan Board of Works in 1855, the County of London in 1889 and Inner London in 1965.',\n",
       " \"Cholera is an infection of the small intestine by some strains of the bacterium Vibrio cholerae. Symptoms may range from none, to mild, to severe. The classic symptom is large amounts of watery diarrhea that lasts a few days. Vomiting and muscle cramps may also occur. Diarrhea can be so severe that it leads within hours to severe dehydration and electrolyte imbalance. This may result in sunken eyes, cold skin, decreased skin elasticity, and wrinkling of the hands and feet. Dehydration can cause the skin to turn bluish. Symptoms start two hours to five days after exposure.Cholera is caused by a number of types of Vibrio cholerae, with some types producing more severe disease than others. It is spread mostly by unsafe water and unsafe food that has been contaminated with human feces containing the bacteria. Undercooked seafood is a common source. Humans are the only animal affected. Risk factors for the disease include poor sanitation, not enough clean drinking water, and poverty. There are concerns that rising sea levels will increase rates of disease. Cholera can be diagnosed by a stool test. A rapid dipstick test is available but is not as accurate.Prevention methods against cholera include improved sanitation and access to clean water. Cholera vaccines that are given by mouth provide reasonable protection for about six months. They have the added benefit of protecting against another type of diarrhea caused by E. coli. The primary treatment is oral rehydration therapy—the replacement of fluids with slightly sweet and salty solutions. Rice-based solutions are preferred. Zinc supplementation is useful in children. In severe cases, intravenous fluids, such as Ringer's lactate, may be required, and antibiotics may be beneficial. Testing to see which antibiotic the cholera is susceptible to can help guide the choice.Cholera affects an estimated 3–5 million people worldwide and causes 28,800–130,000 deaths a year. Although it is classified as a pandemic as of 2010, it is rare in the developed world. Children are mostly affected. Cholera occurs as both outbreaks and chronically in certain areas. Areas with an ongoing risk of disease include Africa and Southeast Asia. The risk of death among those affected is usually less than 5% but may be as high as 50%. No access to treatment results in a higher death rate. Descriptions of cholera are found as early as the 5th century BC in Sanskrit. The study of cholera in England by John Snow between 1849 and 1854 led to significant advances in the field of epidemiology. Seven large outbreaks have occurred over the last 200 years with millions of deaths.\",\n",
       " 'The COVID-19 pandemic, also known as the coronavirus pandemic, is an ongoing pandemic of coronavirus disease 2019 (COVID-19) caused by severe acute respiratory syndrome coronavirus 2 (SARS-CoV-2). The disease was first identified in December 2019 in Wuhan, China. The outbreak was declared a Public Health Emergency of International Concern in January 2020, and a pandemic in March 2020. As of 17 October 2020, more than 39.5 million cases have been confirmed, with more than 1.1 million deaths attributed to COVID-19.\\n\\nCommon symptoms include fever, cough, fatigue, breathing difficulties, and loss of smell. Complications may include pneumonia and acute respiratory distress syndrome. The incubation period is typically around five days but may range from one to 14 days. There are several vaccine candidates in development, although none have proven their safety and efficacy. There is no known specific antiviral medication, so primary treatment is currently symptomatic.\\nRecommended preventive measures include hand washing, covering mouth or wearing face mask when sneezing or coughing, social distancing, disinfecting surfaces, ventilation and air-filtering, and monitoring and self-isolation if exposed or symptomatic. Travel restrictions, lockdowns, workplace hazard controls, and facility closures have been implemented. Many places have also worked to increase testing capacity and trace contacts of the infected. These have caused social and economic disruption, including the largest global recession since the Great Depression. Extreme poverty and global famines are affecting hundreds of millions, inflamed by supply shortages. Many events, the environment and education systems have also been affected. Misinformation about the virus has circulated globally. There have been many incidents of xenophobia and racism against Chinese people and against those perceived as being Chinese or as being from areas with high infection rates.',\n",
       " \"Crimson Contagion was a joint exercise conducted from January to August 2019, in which numerous national, state and local, private and public organizations in the US participated, in order to test the capacity of the federal government and twelve states to respond to a severe pandemic of influenza originating in China.\\nThe simulation, which was conducted months prior to the start of the COVID-19 pandemic, involves a scenario in which tourists returning from China spread a respiratory virus in the United States, beginning in Chicago. In less than two months the virus had infected 110 million Americans, killing more than half a million. The report issued at the conclusion of the exercise outlines the government's limited capacity to respond to a pandemic, with federal agencies lacking the funds, coordination, and resources to facilitate an effective response to the virus.\",\n",
       " \"Disease X is a placeholder name that was adopted by the World Health Organization (WHO) in February 2018 on their shortlist of blueprint priority diseases to represent a hypothetical, unknown pathogen that could cause a future epidemic. The WHO adopted the placeholder name to ensure that their planning was sufficiently flexible to adapt to an unknown pathogen (e.g. broader vaccines and manufacturing facilities).  Director of the US National Institute of Allergy and Infectious Diseases Anthony Fauci stated that the concept of Disease X would encourage WHO projects to focus their research efforts on entire classes of viruses (e.g. flaviviruses), instead of just individual strains (e.g. zika virus), thus improving WHO capability to respond to unforeseen strains.  In 2020, it was speculated, including among some of the WHO's own expert advisors, that COVID-19, caused by SARS-CoV-2 virus strain, met the requirements to be the first Disease X.\",\n",
       " 'The Johns Hopkins Center for Health Security (abbreviated CHS; previously the UPMC Center for Health Security, the Center for Biosecurity of UPMC, and the Johns Hopkins Center for Civilian Biodefense Strategies) is an independent, nonprofit organization of the Johns Hopkins Bloomberg School of Public Health, and part of the Environmental Health and Engineering department. It is concerned with the areas of health consequences from epidemics and disasters as well as averting biological weapons development, and implications of biosecurity for the bioeconomy. It is a think tank that does policy research and gives policy recommendations to the United States government as well as the World Health Organization and the UN Biological Weapons Convention.',\n",
       " \"Human immunodeficiency virus infection and acquired immune deficiency syndrome (HIV/AIDS) is a spectrum of conditions caused by infection with the human immunodeficiency virus (HIV). Following initial infection a person may not notice any symptoms, or may experience a brief period of influenza-like illness. Typically, this is followed by a prolonged period with no symptoms. If the infection progresses, it interferes more with the immune system, increasing the risk of developing common infections such as tuberculosis, as well as other opportunistic infections, and tumors which are otherwise rare in people who have normal immune function. These late symptoms of infection are referred to as acquired immunodeficiency syndrome (AIDS). This stage is often also associated with unintended weight loss.HIV is spread primarily by unprotected sex (including anal and oral sex), contaminated blood transfusions, hypodermic needles, and from mother to child during pregnancy, delivery, or breastfeeding. Some bodily fluids, such as saliva, sweat and tears, do not transmit the virus. HIV is a member of the group of viruses known as retroviruses.Methods of prevention include safe sex, needle exchange programs, treating those who are infected, and pre- & post-exposure prophylaxis. Disease in a baby can often be prevented by giving both the mother and child antiretroviral medication. There is no cure or vaccine; however, antiretroviral treatment can slow the course of the disease and may lead to a near-normal life expectancy. Treatment is recommended as soon as the diagnosis is made. Without treatment, the average survival time after infection is 11 years.In 2018, about 37.9 million people were living with HIV and it resulted in 770,000 deaths. An estimated 20.6 million of these live in eastern and southern Africa. Between the time that AIDS was identified (in the early 1980s) and 2018, the disease caused an estimated 32 million deaths worldwide. HIV/AIDS is considered a pandemic—a disease outbreak which is present over a large area and is actively spreading.HIV made the jump from other primates to humans in west-central Africa in the early-to-mid 20th century. AIDS was first recognized by the United States Centers for Disease Control and Prevention (CDC) in 1981 and its cause—HIV infection—was identified in the early part of the decade.\\nHIV/AIDS has had a large impact on society, both as an illness and as a source of discrimination. The disease also has large economic impacts. There are many misconceptions about HIV/AIDS, such as the belief that it can be transmitted by casual non-sexual contact. The disease has become subject to many controversies involving religion, including the Catholic Church's position not to support condom use as prevention. It has attracted international medical and political attention as well as large-scale funding since it was identified in the 1980s.\",\n",
       " \"The People's Republic of China's first reported AIDS case was identified in 1985 in a dying tourist. In 1989, the first indigenous cases were reported as an outbreak in 146 infected heroin users in Yunnan province, near China's southwest border.Yunnan is the area most affected by HIV/AIDS in China. In 1989 first infections appeared among needle sharing drug users near the Burmese border. Up until 1993, the disease had remained a problem in the border areas before mobile people (truck drivers, construction and migrant workers and travelers) brought the virus further into the country. In 1995, the provinces of Sichuan and Xinjiang reported their first HIV cases, and by 1998, the virus had spread all over China.\\nLow awareness of the disease among China's general population appears to be a major culprit. Most Chinese consider HIV/AIDS as a foreign issue, and even educated people are less knowledgeable of the virus, its transmission and prevention, than people in other countries. Until recently, the use of condoms was not very common, even among sex workers and their clients. As a result, the epidemic has spread from high-risk groups (drug users, sex workers, unsafe blood donors) to the general population.\",\n",
       " 'Pandemic prevention is the organization and management of preventive measures against pandemics. Those include measures to reduce causes of new infectious diseases and measures to prevent outbreaks and epidemics from becoming pandemics.\\nIt is not to be mistaken for pandemic preparedness or pandemic mitigation which largely seek to mitigate the magnitude of negative effects of pandemics and may overlap with pandemic prevention in some respects.',\n",
       " \"The Pandemic Severity Assessment Framework (PSAF) is an evaluation framework which uses quadrants to evaluate both the transmissibility and clinical severity of a pandemic and to combine these into an overall impact estimate.\\nClinical severity is calculated via multiple measures including case fatality rate, case-hospitalization ratios, and deaths-hospitalizations ratios, while viral transmissibility is measured via available data among secondary household attack rates, school attack rates, workplace attack rates, community attack rates, rates of emergency department and outpatient visits for influenza-like illness.The PSAF superseded the 2007 linear Pandemic Severity Index (PSI), which assumed 30% spread and measured case fatality rate (CFR) to assess the severity and evolution of the pandemic. The United States Centers for Disease Control and Prevention (CDC) adopted the PSAF as its official pandemic severity assessment tool in 2014, and it was the official pandemic severity assessment tool listed in the CDC's National Pandemic Strategy at the time of the COVID-19 pandemic.\",\n",
       " 'The pandemic severity index (PSI) was a proposed classification scale for reporting the severity of influenza pandemics in the United States. The PSI was accompanied by a set of guidelines intended to help communicate appropriate actions for communities to follow in potential pandemic situations. Released by the United States Department of Health and Human Services (HHS) on February 1, 2007, the PSI was designed to resemble the Saffir-Simpson Hurricane Scale classification scheme. The index was replaced by the Pandemic Severity Assessment Framework in 2014, which uses quadrants based on transmissibility and clinical severity rather than a linear scale.',\n",
       " 'The Plague of Cyprian was a pandemic that afflicted the Roman Empire about from AD 249 to 262. The plague is thought to have caused widespread manpower shortages for food production and the Roman army, severely weakening the empire during the Crisis of the Third Century. Its modern name commemorates St. Cyprian, bishop of Carthage, an early Christian writer who witnessed and described the plague. The agent of the plague is highly speculative because of sparse sourcing, but suspects have included smallpox, pandemic influenza and viral hemorrhagic fever (filoviruses) like the Ebola virus.',\n",
       " 'PREDICT was an epidemiological research program funded by a United States Agency for International Development (USAID) grant.  Launched in 2009, the program was described as an early warning pandemic system.',\n",
       " 'The 1929–1930 psittacosis pandemic, also known as the psittacosis outbreak of 1929–1930 and the great parrot fever pandemic, was a series of simultaneous outbreaks of psittacosis (parrot fever) which, accelerated by the breeding and transportation of birds in crowded containers for the purpose of trade, was initially seen to have its origin in parrots from South America. It was shortly found to have spread from several species of birds from several countries worldwide to humans between mid 1929 and early 1930. Diagnosed by its clinical features and link to birds, it affected around 750 to 800 people globally, with a mortality of 15%. Its mode of transmission to humans by mouth-to-beak contact or inhaling dried bird secretions and droppings was not known at the time. The cause, Chlamydia psittaci, which usually remains dormant in birds until activated by stress of capture and confinement, was discovered after the pandemic.\\nCases were reported in mid 1929, in Birmingham, United Kingdom, and linked to parrots from Buenos Aires, Argentina, where an ongoing outbreak of the disease had led to cautioning bird owners to declare their sick parrots. The origin of the outbreak in the Argentine city of Córdoba was traced to an import of 5,000 parrots from Brazil. Although the Argentine parrot trade was stopped, a number of birds were illegally sold on to visitors to its seaports, with the consequence that psittacosis was transmitted to several countries.\\nIn November 1929, reports of cases among an Argentine theatrical group in Córdoba made it into the local press. In January 1930, when cases of an atypical pneumonia in one family, with the death of their parrot, appeared in Maryland, United States, a link was made to the story of the theatrical group, and \"parrot fever\" made headlines in the American press. Following further cases, bans on parrot trades were implemented, and subsequently cases were reported in several other countries, including Germany, France and Australia. The origin was understood to have been the importation of green Amazon parrots from South America. Later, the principal source of the disease in the U.S. was domestic lovebirds raised in Californian aviaries, and sold to mainly housewives and widows.\\nThe impact of the outbreak on the U.S. Hygienic Laboratory, with 16 of its workers affected, including two deaths, led to the formation of the National Institute of Health.',\n",
       " 'Science diplomacy is the collaborative efforts by local and global entities to solve global issues using science and technology as a base. In science diplomacy, collaboration takes place to advance science but science can also be used to facilitate diplomatic relations. This allows even conflicting nations to come together through science to find solutions to global issues. Global organizations, researchers, public health officials, countries, government officials, and clinicians have previously worked together to create effective measures of infection control and subsequent treatment. They continue to do so through sharing of resources, research data, ideas, and by putting into effect laws and regulations that can further advance scientific research. Without the collaborative efforts of such entities, the world would not have the vaccines and treatments we now possess for diseases that were once considered deadly such as tuberculosis, tetanus, polio, influenza, etc. Historically, science diplomacy has proved successful in diseases such as SARS, Ebola, Zika and continues to be relevant during the COVID-19 pandemic today.',\n",
       " 'The Spanish flu, also known as the 1918 flu pandemic, was an unusually deadly influenza pandemic caused by the H1N1 influenza A virus. Lasting from February 1918 to April 1920, it infected 500 million people – about a third of the world\\'s population at the time – in four successive waves. The death toll is typically estimated to have been somewhere between 17 million and 50 million, and possibly as high as 100 million, making it one of the deadliest pandemics in human history.The first observations of illness and mortality were documented in the United States (in Fort Riley, Haskell County, Kansas as well as in New York City), France (Brest), Germany and the United Kingdom. To maintain morale, World War I censors minimized these early reports. Newspapers were free to report the epidemic\\'s effects in neutral Spain, such as the grave illness of King Alfonso XIII, and these stories created a false impression of Spain as especially hard hit. This gave rise to the name \"Spanish\" flu. Historical and epidemiological data are inadequate to identify with certainty the pandemic\\'s geographic origin, with varying views as to its location.\\nMost influenza outbreaks disproportionately kill the very young and the very old, with a higher survival rate for those in between, but the Spanish flu pandemic resulted in a higher-than-expected mortality rate for young adults. Scientists offer several possible explanations for the high mortality rate of the 1918 influenza pandemic. Some analyses have shown the virus to be particularly deadly because it triggers a cytokine storm, which ravages the stronger immune system of young adults. In contrast, a 2007 analysis of medical journals from the period of the pandemic found that the viral infection was no more aggressive than previous influenza strains. Instead, malnourishment, overcrowded medical camps and hospitals, and poor hygiene, all exacerbated by the recent war, promoted bacterial superinfection. This superinfection killed most of the victims, typically after a somewhat prolonged death bed.The 1918 Spanish flu was the first of two pandemics caused by H1N1 influenza A virus; the second was the 2009 swine flu pandemic.',\n",
       " 'A superspreader is an unusually contagious organism infected with a disease. In the context of a human-borne illness, a superspreader is an individual who is more likely to infect others, compared with a typical infected person. Such superspreaders are of particular concern in epidemiology.\\nSome cases of superspreading conform to the 80/20 rule, where approximately 20% of infected individuals are responsible for 80% of transmissions, although superspreading can still be said to occur when superspreaders account for a higher or lower percentage of transmissions.  In epidemics with such superspreader events (SSEV), the majority of individuals infect relatively few secondary contacts.SSEVs are shaped by multiple factors including a decline in herd immunity, nosocomial infections, virulence, viral load, misdiagnosis, airflow dynamics, immune suppression, and co-infection with another pathogen.',\n",
       " 'Swine influenza is an infection caused by any one of several types of swine influenza viruses. Swine influenza virus (SIV) or swine-origin influenza virus (S-OIV) is any strain of the influenza family of viruses that is endemic in pigs. As of 2009, the known SIV strains include influenza C and the subtypes of  influenza A known as H1N1, H1N2, H2N1, H3N1, H3N2, and H2N3.\\nSwine influenza virus is common throughout pig populations worldwide. Transmission of the virus from pigs to humans is not common and does not always lead to human flu, often resulting only in the production of antibodies in the blood. If transmission does cause human flu, it is called zoonotic swine flu. People with regular exposure to pigs are at increased risk of swine flu infection.\\nAround the mid-20th century, identification of influenza subtypes became possible, allowing accurate diagnosis of transmission to humans. Since then, only 50 such transmissions have been confirmed. These strains of swine flu rarely pass from human to human. Symptoms of zoonotic swine flu in humans are similar to those of influenza and of influenza-like illness in general, namely chills, fever, sore throat, muscle pains, severe headache, coughing, weakness, shortness of breath, and general discomfort.\\nIt is estimated that in the 2009 flu pandemic 11–21% of the then global population (of about 6.8 billion), or around 700 million to 1.4 billion people, contracted the illness—more in absolute terms than the Spanish flu pandemic. Actual fatalities ranged between 12,000 and 18,000. However, in a 2012 study, the CDC estimated more than 284,000 possible fatalities worldwide, with range from 150,000 to 575,000.\\nIn August 2010, the World Health Organization declared the swine flu pandemic officially over.Subsequent cases of swine flu were reported in India in 2015, with over 31,156 positive test cases and 1,841 deaths up to March 2015.',\n",
       " 'Targeted immunization strategies are approaches designed to increase the immunization level of populations and decrease the chances of epidemic outbreaks. Though often in regards to use in healthcare practices and the administration of vaccines to prevent biological epidemic outbreaks, these strategies refer in general to immunization schemes in complex networks, biological, social or artificial in nature. Identification of at-risk groups and individuals with higher odds of spreading the disease often plays an important role in these strategies.',\n",
       " \"The Unified Victim Identification System (UVIS) is an Internet-enabled database system developed for the Office of Chief Medical Examiner of the City of New York (OCME) in the aftermath of the September 11 attacks on New York City and the crash of American Airlines Flight 587.  It is intended to handle critical fatality management functions made necessary by a major disaster. UVIS is a strong flexible role-based application and permissions can be controlled dynamically.In the event of a mass casualty event, it will initially be used by New York City's 311 call center operators, the New York Police Department, and OCME to gather key information to facilitate compiling an accurate list of missing persons.  UVIS will also be used by the OCME to track decedents and collect postmortem findings to facilitate the identification process after a disaster.  UVIS also contains a Pandemic Flu module to prepare against such an eventuality.  UVIS is a strong flexible role-based application and permissions can be controlled dynamically.\\nUVIS was built for the OCME by Nihilent, a consulting & solution integration company, and is a leading design thinking company, (formerly known as ICRA Sapphire).Developed with public funds, UVIS is available to municipalities, counties, states, and other governmental agencies without charge, under license from New York City. Currently UVIS is in use at the Office of Chief Medical Examiner of the City of New York (OCME) and the State of New Jersey (OCSME).\",\n",
       " 'Viral load, also known as viral burden, viral titre or viral titer, is a numerical expression of the quantity of virus in a given volume of fluid; sputum and blood plasma being two bodily fluids. For example, the viral load of norovirus can be determined from run-off water on garden produce. Norovirus has not only prolonged viral shedding and has the ability to survive in the environment but a minuscule infectious dose is required to produce infection in humans: less than 100 viral particles.Viral load is often expressed as viral particles, or infectious particles per mL depending on the type of assay. A higher viral burden, titre, or viral load often correlates with the severity of an active viral infection. The quantity of virus / mL can be calculated by estimating the live amount of virus in an involved fluid. For example, it can be given in RNA copies per millilitre of blood plasma.\\nTracking viral load is used to monitor therapy during chronic viral infections, and in immunocompromised patients such as those recovering from bone marrow or solid organ transplantation. Currently, routine testing is available for HIV-1, cytomegalovirus, hepatitis B virus, and hepatitis C virus. Viral load monitoring for HIV is of particular interest in the treatment of people with HIV, as this is continually discussed in the context of management of HIV/AIDS.',\n",
       " 'A virus is a submicroscopic infectious agent that replicates only inside the living cells of an organism. Viruses infect all types of life forms, from animals and plants to microorganisms, including bacteria and archaea.\\nSince Dmitri Ivanovsky\\'s 1892 article describing a non-bacterial pathogen infecting tobacco plants and the discovery of the tobacco mosaic virus by Martinus Beijerinck in 1898, more than 6,000  virus species have been described in detail of the millions of types of viruses in the environment. Viruses are found in almost every ecosystem on Earth and are the most numerous type of biological entity. The study of viruses is known as virology, a subspeciality of microbiology.\\nWhen infected, a host cell is forced to rapidly produce thousands of identical copies of the original virus. When not inside an infected cell or in the process of infecting a cell, viruses exist in the form of independent particles, or virions, consisting of: (i) the genetic material, i.e., long molecules of DNA or RNA that encode the structure of the proteins by which the virus acts; (ii) a protein coat, the capsid, which surrounds and protects the genetic material; and in some cases (iii) an outside envelope of lipids. The shapes of these virus particles range from simple helical and icosahedral forms to more complex structures. Most virus species have virions too small to be seen with an optical microscope, as they are one-hundredth the size of most bacteria.\\nThe origins of viruses in the evolutionary history of life are unclear: some may have evolved from plasmids—pieces of DNA that can move between cells—while others may have evolved from bacteria. In evolution, viruses are an important means of horizontal gene transfer, which increases genetic diversity in a way analogous to sexual reproduction. Viruses are considered by some biologists to be a life form, because they carry genetic material, reproduce, and evolve through natural selection, although they lack the key characteristics, such as cell structure, that are generally considered necessary criteria for life. Because they possess some but not all such qualities, viruses have been described as \"organisms at the edge of life\", and as self-replicators.Viruses spread in many ways. One transmission pathway is through disease-bearing organisms known as vectors: for example, viruses are often transmitted from plant to plant by insects that feed on plant sap, such as aphids; and viruses in animals can be carried by blood-sucking insects. Influenza viruses are spread by coughing and sneezing. Norovirus and rotavirus, common causes of viral gastroenteritis, are transmitted by the faecal–oral route, passed by hand-to-mouth contact or in food or water. The infectious dose of norovirus required to produce infection in humans is less than 100 particles. HIV is one of several viruses transmitted through sexual contact and by exposure to infected blood. The variety of host cells that a virus can infect is called its \"host range\". This can be narrow, meaning a virus is capable of infecting few species, or broad, meaning it is capable of infecting many.Viral infections in animals provoke an immune response that usually eliminates the infecting virus. Immune responses can also be produced by vaccines, which confer an artificially acquired immunity to the specific viral infection. Some viruses, including those that cause AIDS, HPV infection, and viral hepatitis, evade these immune responses and result in chronic infections. Several antiviral drugs have been developed.']"
      ]
     },
     "execution_count": 2,
     "metadata": {},
     "output_type": "execute_result"
    }
   ],
   "source": [
    "with open('data.json', 'r') as file:\n",
    "    documents = json.load(file)\n",
    "\n",
    "sentences = [document['text'] for document in documents ]\n",
    "sentences"
   ]
  },
  {
   "cell_type": "code",
   "execution_count": 11,
   "id": "7844a266",
   "metadata": {},
   "outputs": [
    {
     "data": {
      "text/plain": [
       "384"
      ]
     },
     "execution_count": 11,
     "metadata": {},
     "output_type": "execute_result"
    }
   ],
   "source": [
    "model = SentenceTransformer('paraphrase-MiniLM-L6-v2')\n",
    "embeddings = model.encode(sentences)\n",
    "\n",
    "vector_size=embeddings.shape[1]\n",
    "vector_size\n"
   ]
  },
  {
   "cell_type": "code",
   "execution_count": 19,
   "id": "0fe1bb7d",
   "metadata": {},
   "outputs": [
    {
     "data": {
      "text/plain": [
       "array([-5.07164121e-01,  1.28933340e-01,  2.17811242e-01, -3.82991314e-01,\n",
       "       -7.57071003e-02, -3.25809211e-01,  8.33333790e-01,  7.28661776e-01,\n",
       "       -4.27888751e-01, -5.99833310e-01,  2.54839271e-01, -5.28913558e-01,\n",
       "       -1.66156009e-01, -1.53139159e-01, -3.90681267e-01, -8.19487572e-01,\n",
       "       -1.33167639e-01, -6.77356541e-01,  5.05305111e-01, -3.60060692e-01,\n",
       "       -9.37046930e-02, -2.39226401e-01, -1.68991864e-01, -2.23630741e-01,\n",
       "       -3.15550804e-01, -3.20087940e-01,  5.95741749e-01,  3.26300949e-01,\n",
       "       -3.09168398e-02,  1.17323458e-01, -9.61494073e-02,  5.28547287e-01,\n",
       "       -1.03682852e+00, -2.67857403e-01,  1.72391489e-01, -4.38796759e-01,\n",
       "       -9.62218046e-02, -6.51251137e-01, -6.77947521e-01, -3.99700366e-02,\n",
       "        2.60363191e-01, -4.79452051e-02, -1.30499855e-01,  5.03033817e-01,\n",
       "        5.22601008e-01,  3.75526309e-01, -5.17159961e-02, -3.83910947e-02,\n",
       "       -5.20588219e-01,  3.49465609e-01,  4.33636636e-01, -2.92894244e-01,\n",
       "        2.56942004e-01, -2.99348682e-01,  5.08787334e-01, -1.98652193e-01,\n",
       "       -7.59870484e-02,  2.05044553e-01,  3.52006964e-02,  6.91091001e-04,\n",
       "       -5.90563118e-01, -2.97693878e-01, -2.52151608e-01,  3.04837465e-01,\n",
       "        6.11438632e-01,  2.60069519e-01, -6.33958504e-02, -1.18636638e-01,\n",
       "        3.22404653e-01,  4.70020682e-01,  1.41202375e-01, -4.38956827e-01,\n",
       "       -4.46859151e-01,  5.25375009e-01, -2.82988638e-01, -5.72090149e-02,\n",
       "       -2.02043932e-02, -7.97682628e-02,  1.79979369e-01,  3.71836036e-01,\n",
       "       -6.35017976e-02, -3.77140380e-02,  4.94241834e-01, -3.37392241e-01,\n",
       "        6.66040897e-01,  3.21913719e-01,  3.83170158e-01,  6.48860037e-01,\n",
       "        2.13967562e-02, -1.00172333e-01,  4.47615027e-01,  4.32962686e-01,\n",
       "       -6.02391839e-01, -2.13256225e-01,  5.50354779e-01,  4.47847933e-01,\n",
       "        2.33382478e-01, -5.46689093e-01, -4.75727171e-01,  7.19049156e-01,\n",
       "        3.25719327e-01, -1.11726910e-01, -5.36566257e-01,  3.97992134e-01,\n",
       "       -6.64726675e-01,  1.31594077e-01,  1.23994969e-01, -2.46244565e-01,\n",
       "        3.92944574e-01, -5.36620557e-01,  3.19372527e-02,  4.09242481e-01,\n",
       "        8.89389887e-02, -3.41059774e-01,  3.53446811e-01, -8.57735053e-02,\n",
       "       -3.77612799e-01,  5.02283990e-01,  1.17763531e+00,  6.50721729e-01,\n",
       "        1.15470469e-01, -6.76785767e-01, -1.37252375e-01, -1.90525308e-01,\n",
       "        1.57865539e-01,  1.50575027e-01,  2.12253973e-01,  4.04606581e-01,\n",
       "       -1.28759846e-01, -3.47990632e-01,  1.07416384e-01, -5.76933026e-01,\n",
       "       -4.22296196e-01, -2.48869970e-01,  1.82203129e-01,  1.14254981e-01,\n",
       "       -2.26851717e-01,  2.09955379e-01, -8.43062699e-02, -3.05632621e-01,\n",
       "       -5.25773942e-01, -3.06171596e-01,  8.87884378e-01,  3.79585892e-01,\n",
       "       -5.24322927e-01, -7.31825754e-02, -1.51705354e-01,  1.41731843e-01,\n",
       "       -2.36139402e-01, -1.32488155e+00,  7.05041230e-01, -2.68788844e-01,\n",
       "        4.34933215e-01,  2.89295644e-01, -1.18646137e-01, -7.75236636e-02,\n",
       "        8.43218565e-02,  3.54884230e-02,  4.58243117e-03, -8.87775421e-02,\n",
       "       -5.11735380e-01,  5.09752989e-01, -6.78128302e-01,  8.65622997e-01,\n",
       "        5.62946677e-01,  1.28875822e-01, -1.12097330e-01,  3.23302358e-01,\n",
       "        7.66814977e-04, -3.70819531e-02,  3.45027566e-01, -1.76017538e-01,\n",
       "       -3.52675021e-02, -1.39955759e+00, -6.73244655e-01, -1.86415553e-01,\n",
       "       -9.15065333e-02,  5.50898850e-01, -4.78038788e-01,  9.57360044e-02,\n",
       "       -2.72830278e-01, -6.76471412e-01,  5.41674972e-01,  7.97517538e-01,\n",
       "       -1.04894258e-01,  4.12237167e-01, -9.42286253e-02,  1.86002806e-01,\n",
       "        2.48876765e-01, -7.59069741e-01, -2.20774412e-01, -6.30181357e-02,\n",
       "        2.67068535e-01,  3.39960724e-01, -1.85499057e-01, -9.58388150e-01,\n",
       "        1.13711394e-01, -4.62150484e-01, -3.15691531e-01, -1.75607502e-01,\n",
       "        4.19732660e-01, -3.58771473e-01,  4.37505484e-01, -2.49515101e-01,\n",
       "       -1.82289422e-01,  4.83665377e-01,  2.84526292e-02, -7.52631247e-01,\n",
       "        5.04240513e-01, -1.37453139e-01, -2.83593506e-01,  1.68514803e-01,\n",
       "        4.95087542e-02, -1.81312904e-01, -2.65629977e-01, -1.17735910e+00,\n",
       "       -4.33747739e-01, -2.93061137e-01,  2.12123320e-01,  7.45052516e-01,\n",
       "       -7.01724827e-01, -3.18748504e-01, -7.35728815e-02,  2.79894080e-02,\n",
       "       -5.55875957e-01,  4.71988350e-01, -3.37271810e-01,  7.11568117e-01,\n",
       "       -2.14453593e-01, -6.70310557e-01,  1.90695062e-01, -1.05959617e-01,\n",
       "        3.94873738e-01,  6.65141523e-01,  9.21512306e-01, -2.02752069e-01,\n",
       "       -6.98458254e-01, -1.42781079e-01, -1.96525276e-01,  5.76801538e-01,\n",
       "       -1.24404512e-01,  7.92916790e-02,  7.39646852e-02, -3.82467628e-01,\n",
       "       -1.28874883e-01,  3.46096724e-01,  1.54611155e-01, -2.51168817e-01,\n",
       "        1.63211562e-02, -4.20349002e-01,  2.17773411e-02, -9.87528265e-01,\n",
       "        1.51530012e-01, -1.52349576e-01,  2.34657332e-01,  1.79270410e-03,\n",
       "        6.42220914e-01,  4.13414627e-01,  1.47829071e-01, -1.16883315e-01,\n",
       "        1.50005233e+00, -1.52360544e-01,  4.82594758e-01,  4.72506136e-01,\n",
       "        6.94583893e-01,  1.04302013e+00, -4.12877500e-02, -5.37547886e-01,\n",
       "       -2.35859320e-01, -1.92370772e-01,  5.09139121e-01, -1.51729034e-02,\n",
       "        2.17298996e-02,  5.16111076e-01,  5.72953045e-01, -2.71199048e-01,\n",
       "        4.78965878e-01, -1.34900704e-01, -5.53235054e-01, -2.93526709e-01,\n",
       "        4.46285278e-01, -4.89503145e-01, -3.61696482e-01,  7.99399376e-01,\n",
       "        1.28864780e-01, -1.00664169e-01, -9.12808552e-02, -6.19585812e-02,\n",
       "       -7.56928399e-02, -8.25467557e-02, -4.98921782e-01,  6.40113354e-01,\n",
       "        8.85757983e-01,  4.80052263e-01, -3.89504194e-01,  2.46160209e-01,\n",
       "        2.47021511e-01, -7.09953010e-01,  5.27367257e-02, -5.18887341e-01,\n",
       "       -3.55014235e-01, -2.63826903e-02, -1.55662805e-01, -1.79718852e-01,\n",
       "        1.79644689e-01,  2.75801923e-02,  2.86978930e-01,  3.36542696e-01,\n",
       "       -1.71661481e-01,  2.92906135e-01,  1.97420314e-01,  1.37890965e-01,\n",
       "        1.68035403e-01,  1.74145520e-01, -2.15768814e-01,  2.91345209e-01,\n",
       "       -3.35298449e-01,  4.71085757e-01,  2.26586863e-01,  2.91336983e-01,\n",
       "        1.79622516e-01, -3.48230362e-01, -8.92256737e-01,  1.74485087e-01,\n",
       "       -1.01904608e-01,  2.29609564e-01, -2.67976642e-01, -8.75262916e-01,\n",
       "       -4.61145163e-01, -4.76580746e-02,  6.67784661e-02,  1.73370436e-01,\n",
       "       -6.81302309e-01,  7.35414028e-03,  4.87827778e-01,  1.38406098e-01,\n",
       "       -1.49004519e-01,  4.83647436e-01, -4.61530983e-02, -2.92044878e-02,\n",
       "        9.59474370e-02,  1.74921587e-01,  3.73564094e-01,  2.08221689e-01,\n",
       "       -2.19924882e-01,  1.75842702e-01,  4.88226414e-01, -6.48668408e-02,\n",
       "        1.24719910e-01, -4.48380798e-01, -3.27063233e-01,  7.63467312e-01,\n",
       "       -4.10701245e-01, -3.72491270e-01,  6.07776821e-01,  4.97534782e-01,\n",
       "       -2.00504124e-01,  7.33051300e-02,  9.12482560e-01,  4.65966612e-01,\n",
       "       -1.00916278e+00, -4.66760784e-01, -4.49084431e-01, -3.25316757e-01,\n",
       "        1.85704246e-01,  3.98534298e-01, -2.10433125e-01, -3.75495940e-01,\n",
       "       -9.67483297e-02, -2.96871036e-01, -1.07412167e-01, -1.85855150e-01,\n",
       "       -6.38774410e-02, -6.68554842e-01, -7.92415962e-02,  3.26231062e-01,\n",
       "        4.27765757e-01, -1.51990829e-02, -5.88233173e-01, -1.51965871e-01,\n",
       "        1.35814056e-01,  3.78292531e-01,  8.20639789e-01,  3.48889679e-01],\n",
       "      dtype=float32)"
      ]
     },
     "execution_count": 19,
     "metadata": {},
     "output_type": "execute_result"
    }
   ],
   "source": [
    "def encode(text):\n",
    "    return model.encode(text)\n",
    "\n",
    "encode('test tset test')"
   ]
  },
  {
   "cell_type": "code",
   "execution_count": 15,
   "id": "8ac5e5b8",
   "metadata": {},
   "outputs": [],
   "source": [
    "# Create a flat Faiss index\n",
    "index = faiss.IndexIDMap(faiss.IndexFlatIP(vector_size)) # the size of our vector space\n",
    "\n",
    "# Add the document vectors into the index. They need to be transformed into numpy arrays first\n",
    "index.add_with_ids(\n",
    "    embeddings,\n",
    "    # the IDs will be 0 to len(documents)\n",
    "    np.array(range(0, len(sentences)))\n",
    ")"
   ]
  },
  {
   "cell_type": "code",
   "execution_count": 25,
   "id": "73c9c076",
   "metadata": {},
   "outputs": [],
   "source": [
    "def search(query: str, k=5):\n",
    "    encoded_query = model.encode(query).reshape((1, -1))\n",
    "    top_k = index.search(encoded_query, k)\n",
    "    scores = top_k[0][0]\n",
    "    results = [documents[_id]['title'] for _id in top_k[1][0]]\n",
    "    return list(zip(results, scores))"
   ]
  },
  {
   "cell_type": "code",
   "execution_count": 26,
   "id": "c63d9380",
   "metadata": {},
   "outputs": [
    {
     "name": "stdout",
     "output_type": "stream",
     "text": [
      "Question:  How many people have died during Black Death?\n",
      "Answer0:  ('Epidemiology of HIV/AIDS', 13.177227)\n",
      "Answer1:  ('Spanish flu', 12.015366)\n",
      "Answer2:  ('Bills of mortality', 10.355619)\n",
      "Answer3:  ('COVID-19 pandemic', 9.897232)\n",
      "Answer4:  ('HIV/AIDS in Yunnan', 9.320352)\n",
      "Question:  Which diseases can be transmitted by animals?\n",
      "Answer0:  ('Swine influenza', 15.895811)\n",
      "Answer1:  ('Basic reproduction number', 13.09914)\n",
      "Answer2:  ('Disease X', 13.017599)\n",
      "Answer3:  ('Virus', 12.970383)\n",
      "Answer4:  ('Pandemic', 12.493589)\n",
      "Question:  Connection between climate change and a likelihood of a pandemic\n",
      "Answer0:  ('Pandemic', 13.284798)\n",
      "Answer1:  ('PREDICT (USAID)', 12.460386)\n",
      "Answer2:  ('COVID-19 pandemic', 11.854155)\n",
      "Answer3:  ('Pandemic prevention', 10.9414215)\n",
      "Answer4:  ('Pandemic Severity Assessment Framework', 10.637194)\n",
      "Question:  What is an example of a latent virus\n",
      "Answer0:  ('Virus', 18.3499)\n",
      "Answer1:  ('Viral load', 15.907722)\n",
      "Answer2:  ('Swine influenza', 13.991492)\n",
      "Answer3:  ('COVID-19 pandemic', 12.40509)\n",
      "Answer4:  ('Pandemic', 11.419243)\n",
      "Question:  Viruses in nanotechnology\n",
      "Answer0:  ('Virus', 19.322498)\n",
      "Answer1:  ('Viral load', 16.785969)\n",
      "Answer2:  ('Swine influenza', 11.478643)\n",
      "Answer3:  ('HIV/AIDS in Yunnan', 11.421904)\n",
      "Answer4:  ('COVID-19 pandemic', 11.363319)\n",
      "Question:  Giant viruses classification\n",
      "Answer0:  ('Virus', 21.264042)\n",
      "Answer1:  ('Viral load', 16.586155)\n",
      "Answer2:  ('Swine influenza', 16.458721)\n",
      "Answer3:  ('Disease X', 16.163458)\n",
      "Answer4:  ('COVID-19 pandemic', 15.813037)\n",
      "Question:  What are the notable pandemic prevention organizations?\n",
      "Answer0:  ('Pandemic prevention', 20.310665)\n",
      "Answer1:  ('Pandemic', 17.183727)\n",
      "Answer2:  ('COVID-19 pandemic', 14.982424)\n",
      "Answer3:  ('Pandemic Severity Assessment Framework', 14.040445)\n",
      "Answer4:  ('Targeted immunization strategies', 13.635824)\n",
      "Question:  How many leprosy outbreaks are known to happen?\n",
      "Answer0:  ('Epidemiology of HIV/AIDS', 14.695936)\n",
      "Answer1:  ('1929–1930 psittacosis pandemic', 13.189388)\n",
      "Answer2:  ('Pandemic', 13.057923)\n",
      "Answer3:  ('COVID-19 pandemic', 12.571018)\n",
      "Answer4:  ('Superspreader', 11.342106)\n",
      "Question:  What are the geographic areas with the highest transmission of malaria?\n",
      "Answer0:  ('HIV/AIDS in Yunnan', 12.306561)\n",
      "Answer1:  ('Epidemiology of HIV/AIDS', 10.69853)\n",
      "Answer2:  ('Virus', 10.668068)\n",
      "Answer3:  ('1929–1930 psittacosis pandemic', 10.355379)\n",
      "Answer4:  ('Plague of Cyprian', 10.32877)\n",
      "Question:  How to prevent the spread of viral infections?\n",
      "Answer0:  ('Viral load', 15.038694)\n",
      "Answer1:  ('Virus', 12.944662)\n",
      "Answer2:  ('Targeted immunization strategies', 12.002232)\n",
      "Answer3:  ('Disease X', 11.817264)\n",
      "Answer4:  ('COVID-19 pandemic', 11.108065)\n"
     ]
    }
   ],
   "source": [
    "with open('questions.json') as f:\n",
    "    questions = json.load(f)\n",
    "    \n",
    "for question in questions:\n",
    "    print(\"Question: \", question)\n",
    "    answers = search(question, 5)\n",
    "    for i, answer in enumerate(answers):\n",
    "        print(f\"Answer{i}: \",  answer)"
   ]
  },
  {
   "cell_type": "code",
   "execution_count": null,
   "id": "6a0980fa",
   "metadata": {},
   "outputs": [],
   "source": []
  }
 ],
 "metadata": {
  "kernelspec": {
   "display_name": "Python 3",
   "language": "python",
   "name": "python3"
  },
  "language_info": {
   "codemirror_mode": {
    "name": "ipython",
    "version": 3
   },
   "file_extension": ".py",
   "mimetype": "text/x-python",
   "name": "python",
   "nbconvert_exporter": "python",
   "pygments_lexer": "ipython3",
   "version": "3.8.8"
  }
 },
 "nbformat": 4,
 "nbformat_minor": 5
}
