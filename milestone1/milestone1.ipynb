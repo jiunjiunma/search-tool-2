{
 "cells": [
  {
   "cell_type": "code",
   "execution_count": 1,
   "id": "299bb04a",
   "metadata": {},
   "outputs": [],
   "source": [
    "import json\n",
    "import torch\n",
    "import numpy as np\n",
    "import faiss"
   ]
  },
  {
   "cell_type": "code",
   "execution_count": 2,
   "id": "0ebf49d2",
   "metadata": {},
   "outputs": [
    {
     "data": {
      "text/plain": [
       "['A pandemic is an epidemic of an infectious disease that has spread across a large region, for instance multiple continents or worldwide, affecting a substantial number of people.',\n",
       " 'The most fatal pandemic in recorded history was the Black Death (also known as The Plague), which killed an estimated 75–200 million people in the 14th century.',\n",
       " 'Current pandemics include COVID-19 (SARS-CoV-2) and HIV/AIDS.',\n",
       " 'As of 2018, approximately 37.9 million people are infected with HIV globally.',\n",
       " 'Cholera is an infection of the small intestine by some strains of the bacterium Vibrio cholerae.',\n",
       " 'Classic cholera symptom is large amounts of watery diarrhea that lasts a few days. Vomiting and muscle cramps may also occur. Diarrhea can be so severe that it leads within hours to severe dehydration and electrolyte imbalance.',\n",
       " 'The COVID-19 pandemic, also known as the coronavirus pandemic, is an ongoing pandemic of coronavirus disease 2019 (COVID-19) caused by severe acute respiratory syndrome coronavirus 2 (SARS-CoV-2).',\n",
       " 'Common symptoms of COVID-19 include fever, cough, fatigue, breathing difficulties, and loss of smell.',\n",
       " 'The Plague of Cyprian was a pandemic that afflicted the Roman Empire about from AD 249 to 262.',\n",
       " 'The Spanish flu, also known as the 1918 flu pandemic, was an unusually deadly influenza pandemic caused by the H1N1 influenza A virus.',\n",
       " 'The death toll of Spanish Flu is estimated to have been somewhere between 17 million and 50 million, and possibly as high as 100 million, making it one of the deadliest pandemics in human history.']"
      ]
     },
     "execution_count": 2,
     "metadata": {},
     "output_type": "execute_result"
    }
   ],
   "source": [
    "with open('sentences.json') as f:\n",
    "    sentences = json.load(f)\n",
    "    \n",
    "sentences"
   ]
  },
  {
   "cell_type": "code",
   "execution_count": 3,
   "id": "6a45f0ae",
   "metadata": {},
   "outputs": [
    {
     "name": "stderr",
     "output_type": "stream",
     "text": [
      "Some weights of the model checkpoint at distilbert-base-uncased were not used when initializing DistilBertModel: ['vocab_projector.bias', 'vocab_layer_norm.weight', 'vocab_projector.weight', 'vocab_transform.bias', 'vocab_layer_norm.bias', 'vocab_transform.weight']\n",
      "- This IS expected if you are initializing DistilBertModel from the checkpoint of a model trained on another task or with another architecture (e.g. initializing a BertForSequenceClassification model from a BertForPreTraining model).\n",
      "- This IS NOT expected if you are initializing DistilBertModel from the checkpoint of a model that you expect to be exactly identical (initializing a BertForSequenceClassification model from a BertForSequenceClassification model).\n"
     ]
    }
   ],
   "source": [
    "from transformers import DistilBertTokenizer, DistilBertModel\n",
    "tokenizer = DistilBertTokenizer.from_pretrained('distilbert-base-uncased')\n",
    "model = DistilBertModel.from_pretrained(\"distilbert-base-uncased\")\n",
    "#text = \"Replace me by any text you'd like.\"\n",
    "#encoded_input = tokenizer(text, return_tensors='pt')\n",
    "#output = model(**encoded_input)[0].detach().squeeze()"
   ]
  },
  {
   "cell_type": "code",
   "execution_count": 4,
   "id": "c64ca4db",
   "metadata": {},
   "outputs": [],
   "source": [
    "text = \"Replace me by any text you'd like.\"\n",
    "encoded_input = tokenizer(text, return_tensors='pt')"
   ]
  },
  {
   "cell_type": "code",
   "execution_count": 5,
   "id": "b51b1d53",
   "metadata": {},
   "outputs": [
    {
     "data": {
      "text/plain": [
       "{'input_ids': tensor([[ 101, 5672, 2033, 2011, 2151, 3793, 2017, 1005, 1040, 2066, 1012,  102]]), 'attention_mask': tensor([[1, 1, 1, 1, 1, 1, 1, 1, 1, 1, 1, 1]])}"
      ]
     },
     "execution_count": 5,
     "metadata": {},
     "output_type": "execute_result"
    }
   ],
   "source": [
    "encoded_input"
   ]
  },
  {
   "cell_type": "code",
   "execution_count": 6,
   "id": "3a0c7ef4",
   "metadata": {},
   "outputs": [],
   "source": [
    "vector = model(**encoded_input)[0].detach().squeeze()"
   ]
  },
  {
   "cell_type": "code",
   "execution_count": 7,
   "id": "bac7cb68",
   "metadata": {},
   "outputs": [
    {
     "data": {
      "text/plain": [
       "torch.Size([12, 768])"
      ]
     },
     "execution_count": 7,
     "metadata": {},
     "output_type": "execute_result"
    }
   ],
   "source": [
    "vector.size()"
   ]
  },
  {
   "cell_type": "code",
   "execution_count": 8,
   "id": "fdc8444f",
   "metadata": {},
   "outputs": [],
   "source": [
    "def encode(document: str) -> torch.Tensor:\n",
    "  tokens = tokenizer(document, return_tensors='pt')\n",
    "  vector = model(**tokens)[0].detach().squeeze()\n",
    "  return torch.mean(vector, dim=0)"
   ]
  },
  {
   "cell_type": "code",
   "execution_count": 9,
   "id": "91bd1591",
   "metadata": {},
   "outputs": [],
   "source": [
    "averaged_vectors = [encode(sentence) for sentence in sentences ]"
   ]
  },
  {
   "cell_type": "code",
   "execution_count": 10,
   "id": "38b48f55",
   "metadata": {},
   "outputs": [],
   "source": [
    "\n",
    "index = faiss.IndexIDMap(faiss.IndexFlatIP(768))\n",
    "index.add_with_ids(\n",
    "    np.array([t.numpy() for t in averaged_vectors]),\n",
    "    # the IDs will be 0 to len(documents)\n",
    "    np.array(range(0, len(sentences)))\n",
    ")"
   ]
  },
  {
   "cell_type": "code",
   "execution_count": 11,
   "id": "8745f6ec",
   "metadata": {},
   "outputs": [
    {
     "data": {
      "text/plain": [
       "11"
      ]
     },
     "execution_count": 11,
     "metadata": {},
     "output_type": "execute_result"
    }
   ],
   "source": [
    "index.ntotal"
   ]
  },
  {
   "cell_type": "code",
   "execution_count": 16,
   "id": "4a1c3336",
   "metadata": {},
   "outputs": [],
   "source": [
    "def search(query: str, k=1):\n",
    "    encoded = encode(query)\n",
    "    unsqueezed = torch.unsqueeze(encoded, 0)\n",
    "    encoded_query = unsqueezed.numpy()\n",
    "    top_k = index.search(encoded_query, k)\n",
    "    scores = top_k[0][0]\n",
    "    results = [sentences[_id] for _id in top_k[1][0]]\n",
    "    return list(zip(results, scores))"
   ]
  },
  {
   "cell_type": "code",
   "execution_count": 24,
   "id": "a1324239",
   "metadata": {},
   "outputs": [
    {
     "name": "stdout",
     "output_type": "stream",
     "text": [
      "Question:  How many people have died during Black Death?\n",
      "Answer0:  ('As of 2018, approximately 37.9 million people are infected with HIV globally.', 52.613445)\n",
      "Answer1:  ('A pandemic is an epidemic of an infectious disease that has spread across a large region, for instance multiple continents or worldwide, affecting a substantial number of people.', 51.774715)\n",
      "Answer2:  ('The death toll of Spanish Flu is estimated to have been somewhere between 17 million and 50 million, and possibly as high as 100 million, making it one of the deadliest pandemics in human history.', 51.187973)\n",
      "Answer3:  ('The most fatal pandemic in recorded history was the Black Death (also known as The Plague), which killed an estimated 75–200 million people in the 14th century.', 50.574467)\n",
      "Answer4:  ('The Spanish flu, also known as the 1918 flu pandemic, was an unusually deadly influenza pandemic caused by the H1N1 influenza A virus.', 47.014305)\n",
      "Question:  Which diseases can be transmitted by animals?\n",
      "Answer0:  ('A pandemic is an epidemic of an infectious disease that has spread across a large region, for instance multiple continents or worldwide, affecting a substantial number of people.', 54.0495)\n",
      "Answer1:  ('Cholera is an infection of the small intestine by some strains of the bacterium Vibrio cholerae.', 50.80415)\n",
      "Answer2:  ('Current pandemics include COVID-19 (SARS-CoV-2) and HIV/AIDS.', 50.652267)\n",
      "Answer3:  ('As of 2018, approximately 37.9 million people are infected with HIV globally.', 50.516018)\n",
      "Answer4:  ('The Spanish flu, also known as the 1918 flu pandemic, was an unusually deadly influenza pandemic caused by the H1N1 influenza A virus.', 48.97045)\n",
      "Question:  Connection between climate change and a likelihood of a pandemic\n",
      "Answer0:  ('A pandemic is an epidemic of an infectious disease that has spread across a large region, for instance multiple continents or worldwide, affecting a substantial number of people.', 60.540665)\n",
      "Answer1:  ('The Spanish flu, also known as the 1918 flu pandemic, was an unusually deadly influenza pandemic caused by the H1N1 influenza A virus.', 58.15369)\n",
      "Answer2:  ('The death toll of Spanish Flu is estimated to have been somewhere between 17 million and 50 million, and possibly as high as 100 million, making it one of the deadliest pandemics in human history.', 57.490982)\n",
      "Answer3:  ('Current pandemics include COVID-19 (SARS-CoV-2) and HIV/AIDS.', 56.27713)\n",
      "Answer4:  ('As of 2018, approximately 37.9 million people are infected with HIV globally.', 54.697826)\n",
      "Question:  What is an example of a latent virus\n",
      "Answer0:  ('A pandemic is an epidemic of an infectious disease that has spread across a large region, for instance multiple continents or worldwide, affecting a substantial number of people.', 59.449467)\n",
      "Answer1:  ('Current pandemics include COVID-19 (SARS-CoV-2) and HIV/AIDS.', 57.379177)\n",
      "Answer2:  ('The Spanish flu, also known as the 1918 flu pandemic, was an unusually deadly influenza pandemic caused by the H1N1 influenza A virus.', 56.280815)\n",
      "Answer3:  ('Cholera is an infection of the small intestine by some strains of the bacterium Vibrio cholerae.', 55.155266)\n",
      "Answer4:  ('The COVID-19 pandemic, also known as the coronavirus pandemic, is an ongoing pandemic of coronavirus disease 2019 (COVID-19) caused by severe acute respiratory syndrome coronavirus 2 (SARS-CoV-2).', 53.709904)\n",
      "Question:  Viruses in nanotechnology\n",
      "Answer0:  ('Current pandemics include COVID-19 (SARS-CoV-2) and HIV/AIDS.', 53.095905)\n",
      "Answer1:  ('A pandemic is an epidemic of an infectious disease that has spread across a large region, for instance multiple continents or worldwide, affecting a substantial number of people.', 50.57701)\n",
      "Answer2:  ('Cholera is an infection of the small intestine by some strains of the bacterium Vibrio cholerae.', 50.36579)\n",
      "Answer3:  ('As of 2018, approximately 37.9 million people are infected with HIV globally.', 49.529785)\n",
      "Answer4:  ('The Spanish flu, also known as the 1918 flu pandemic, was an unusually deadly influenza pandemic caused by the H1N1 influenza A virus.', 46.69155)\n",
      "Question:  Giant viruses classification\n",
      "Answer0:  ('Current pandemics include COVID-19 (SARS-CoV-2) and HIV/AIDS.', 44.710022)\n",
      "Answer1:  ('Cholera is an infection of the small intestine by some strains of the bacterium Vibrio cholerae.', 42.486416)\n",
      "Answer2:  ('The Spanish flu, also known as the 1918 flu pandemic, was an unusually deadly influenza pandemic caused by the H1N1 influenza A virus.', 41.224216)\n",
      "Answer3:  ('The COVID-19 pandemic, also known as the coronavirus pandemic, is an ongoing pandemic of coronavirus disease 2019 (COVID-19) caused by severe acute respiratory syndrome coronavirus 2 (SARS-CoV-2).', 41.02365)\n",
      "Answer4:  ('A pandemic is an epidemic of an infectious disease that has spread across a large region, for instance multiple continents or worldwide, affecting a substantial number of people.', 39.09821)\n",
      "Question:  What are the notable pandemic prevention organizations?\n",
      "Answer0:  ('A pandemic is an epidemic of an infectious disease that has spread across a large region, for instance multiple continents or worldwide, affecting a substantial number of people.', 56.514076)\n",
      "Answer1:  ('As of 2018, approximately 37.9 million people are infected with HIV globally.', 56.47293)\n",
      "Answer2:  ('The Spanish flu, also known as the 1918 flu pandemic, was an unusually deadly influenza pandemic caused by the H1N1 influenza A virus.', 54.961205)\n",
      "Answer3:  ('Current pandemics include COVID-19 (SARS-CoV-2) and HIV/AIDS.', 54.848137)\n",
      "Answer4:  ('The death toll of Spanish Flu is estimated to have been somewhere between 17 million and 50 million, and possibly as high as 100 million, making it one of the deadliest pandemics in human history.', 51.634094)\n",
      "Question:  How many leprosy outbreaks are known to happen?\n",
      "Answer0:  ('A pandemic is an epidemic of an infectious disease that has spread across a large region, for instance multiple continents or worldwide, affecting a substantial number of people.', 63.531803)\n",
      "Answer1:  ('As of 2018, approximately 37.9 million people are infected with HIV globally.', 61.576454)\n",
      "Answer2:  ('The Spanish flu, also known as the 1918 flu pandemic, was an unusually deadly influenza pandemic caused by the H1N1 influenza A virus.', 61.09945)\n",
      "Answer3:  ('Current pandemics include COVID-19 (SARS-CoV-2) and HIV/AIDS.', 60.62951)\n",
      "Answer4:  ('Classic cholera symptom is large amounts of watery diarrhea that lasts a few days. Vomiting and muscle cramps may also occur. Diarrhea can be so severe that it leads within hours to severe dehydration and electrolyte imbalance.', 59.19008)\n",
      "Question:  What are the geographic areas with the highest transmission of malaria?\n",
      "Answer0:  ('A pandemic is an epidemic of an infectious disease that has spread across a large region, for instance multiple continents or worldwide, affecting a substantial number of people.', 58.68605)\n",
      "Answer1:  ('As of 2018, approximately 37.9 million people are infected with HIV globally.', 58.561733)\n",
      "Answer2:  ('The death toll of Spanish Flu is estimated to have been somewhere between 17 million and 50 million, and possibly as high as 100 million, making it one of the deadliest pandemics in human history.', 54.462524)\n",
      "Answer3:  ('The Spanish flu, also known as the 1918 flu pandemic, was an unusually deadly influenza pandemic caused by the H1N1 influenza A virus.', 53.605446)\n",
      "Answer4:  ('Current pandemics include COVID-19 (SARS-CoV-2) and HIV/AIDS.', 53.513664)\n",
      "Question:  How to prevent the spread of viral infections?\n",
      "Answer0:  ('A pandemic is an epidemic of an infectious disease that has spread across a large region, for instance multiple continents or worldwide, affecting a substantial number of people.', 60.583107)\n",
      "Answer1:  ('As of 2018, approximately 37.9 million people are infected with HIV globally.', 60.17776)\n",
      "Answer2:  ('Current pandemics include COVID-19 (SARS-CoV-2) and HIV/AIDS.', 59.551186)\n",
      "Answer3:  ('Cholera is an infection of the small intestine by some strains of the bacterium Vibrio cholerae.', 58.748882)\n",
      "Answer4:  ('The Spanish flu, also known as the 1918 flu pandemic, was an unusually deadly influenza pandemic caused by the H1N1 influenza A virus.', 57.796577)\n"
     ]
    }
   ],
   "source": [
    "with open('questions.json') as f:\n",
    "    questions = json.load(f)\n",
    "    \n",
    "for question in questions:\n",
    "    print(\"Question: \", question)\n",
    "    answers = search(question, 5)\n",
    "    for i, answer in enumerate(answers):\n",
    "        print(f\"Answer{i}: \",  answer)"
   ]
  },
  {
   "cell_type": "code",
   "execution_count": null,
   "id": "9ad88015",
   "metadata": {},
   "outputs": [],
   "source": []
  }
 ],
 "metadata": {
  "kernelspec": {
   "display_name": "Python 3",
   "language": "python",
   "name": "python3"
  },
  "language_info": {
   "codemirror_mode": {
    "name": "ipython",
    "version": 3
   },
   "file_extension": ".py",
   "mimetype": "text/x-python",
   "name": "python",
   "nbconvert_exporter": "python",
   "pygments_lexer": "ipython3",
   "version": "3.8.8"
  }
 },
 "nbformat": 4,
 "nbformat_minor": 5
}
